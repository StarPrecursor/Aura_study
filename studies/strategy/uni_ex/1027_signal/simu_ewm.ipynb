{
 "cells": [
  {
   "cell_type": "code",
   "execution_count": 9,
   "metadata": {},
   "outputs": [],
   "source": [
    "import yaml\n",
    "import logging\n",
    "from pathlib import Path\n",
    "from concurrent.futures import ProcessPoolExecutor\n",
    "\n",
    "import pandas as pd\n",
    "from sklearn.metrics import r2_score\n",
    "\n",
    "import matplotlib.pyplot as plt\n",
    "import seaborn as sns\n",
    "\n",
    "from artool import ar_ana, ar_model\n",
    "\n",
    "\n",
    "# set logging level\n",
    "logging.basicConfig(level=logging.INFO)\n",
    "logging.getLogger(\"artool\").setLevel(logging.INFO)"
   ]
  },
  {
   "cell_type": "code",
   "execution_count": 2,
   "metadata": {},
   "outputs": [],
   "source": [
    "# Config\n",
    "model_config_path = Path(\"/home/yangzhe/Aura_study/model/fr_pred/1027_lgb/config.yaml\")\n",
    "with open(model_config_path) as f:\n",
    "    cfg = yaml.load(f, Loader=yaml.FullLoader)\n",
    "model_dir = Path(cfg[\"model_dir\"])"
   ]
  },
  {
   "cell_type": "code",
   "execution_count": 3,
   "metadata": {},
   "outputs": [
    {
     "name": "stdout",
     "output_type": "stream",
     "text": [
      "Loading inputs...\n"
     ]
    }
   ],
   "source": [
    "# Get inputs\n",
    "print(\"Loading inputs...\")\n",
    "df = pd.read_feather(model_dir / \"input.feather\")\n",
    "split_time = pd.to_datetime(cfg[\"train_test_split_date\"])\n",
    "df_tr, df_val, df_te = ar_model.train_utils.data_split_by_time(\n",
    "    df, cfg[\"time\"], split_time, val_ratio=0.2\n",
    ")\n",
    "t_tr = df_tr[cfg[\"time\"]]\n",
    "x_tr = df_tr[cfg[\"features\"]]\n",
    "y_tr = df_tr[cfg[\"target\"]]\n",
    "t_val = df_val[cfg[\"time\"]]\n",
    "x_val = df_val[cfg[\"features\"]]\n",
    "y_val = df_val[cfg[\"target\"]]\n",
    "\n",
    "t_te = df_te[cfg[\"time\"]]\n",
    "x_te = df_te[cfg[\"features\"]]\n",
    "y_te = df_te[cfg[\"target\"]]\n",
    "pr_te = df_te[\"price\"]\n",
    "fr_te = df_te[\"funding_rate\"]\n"
   ]
  },
  {
   "cell_type": "code",
   "execution_count": 15,
   "metadata": {},
   "outputs": [],
   "source": [
    "# Plot funding_rate__future_5 vs funding_rate__ewm2d\n",
    "\n",
    "x = df_te[\"funding_rate__ewm2d\"]\n",
    "y = df_te[\"funding_rate__future_5\"]\n",
    "find_nan = pd.isna(x) | pd.isna(y)\n",
    "x = x[~find_nan]\n",
    "y = y[~find_nan]\n",
    "r2 = r2_score(x, y)\n",
    "corr = x.corr(y)\n",
    "\n",
    "fig, ax = plt.subplots(figsize=(6, 6))\n",
    "ax.scatter(x, y, alpha=0.1)\n",
    "ax.set_title(f\"r2={r2:.3f}, corr={corr:.3f}\")\n",
    "ax.set_xlabel(\"funding_rate__ewm2d\")\n",
    "ax.set_ylabel(\"funding_rate__future_5\")\n",
    "fig.savefig(\"funding_rate__future_5_vs_funding_rate__ewm2d.png\")"
   ]
  },
  {
   "cell_type": "markdown",
   "metadata": {},
   "source": [
    "## Simu ewm"
   ]
  },
  {
   "cell_type": "code",
   "execution_count": 4,
   "metadata": {},
   "outputs": [],
   "source": [
    "symbols = df_te[\"symbol\"].unique()\n",
    "trade_data_ewm = {}\n",
    "for symbol in symbols:\n",
    "    df_tmp = df_te[df_te[\"symbol\"] == symbol]\n",
    "    df_syb = pd.DataFrame()\n",
    "    df_syb[\"time\"] = df_tmp[cfg[\"time\"]]\n",
    "    df_syb[\"price\"] = df_tmp[\"price\"]\n",
    "    df_syb[\"funding_rate\"] = df_tmp[\"funding_rate\"]\n",
    "    df_syb[\"vol\"] = df_tmp[\"vol\"]\n",
    "    df_syb[\"signal\"] = df_tmp[\"funding_rate__ewm2d\"]\n",
    "    trade_data_ewm[symbol] = df_syb\n",
    "ts_ewm = ar_ana.simu.TradeSimulatorSignalSimple(trade_data_ewm)"
   ]
  },
  {
   "cell_type": "markdown",
   "metadata": {},
   "source": [
    "### Compare different capital sizes"
   ]
  },
  {
   "cell_type": "code",
   "execution_count": 5,
   "metadata": {},
   "outputs": [
    {
     "name": "stderr",
     "output_type": "stream",
     "text": [
      "INFO:artool:Simulating trading\n",
      "  0%|          | 0/2208 [00:00<?, ?it/s]INFO:artool:Simulating trading\n",
      "INFO:artool:Simulating trading\n",
      "cum_pnl: 2297.31 / 100000.00: 100%|██████████| 2208/2208 [04:09<00:00,  8.86it/s]s]s]\n",
      "cum_pnl: 23802.50 / 1000000.00: 100%|██████████| 2208/2208 [04:16<00:00,  8.62it/s]s]\n",
      "cum_pnl: 212598.41 / 10000000.00: 100%|██████████| 2208/2208 [04:39<00:00,  7.90it/s]\n"
     ]
    }
   ],
   "source": [
    "def get_rec(cap):\n",
    "    ts_ewm = ar_ana.simu.TradeSimulatorSignalSimple(trade_data_ewm)\n",
    "    ts_ewm.trade(cap)\n",
    "    plot_dir = Path(f\"plot_ewm_cap_{int(cap / 1000)}k\")\n",
    "    plot_dir.mkdir(exist_ok=True)\n",
    "    ts_ewm.plot_book(plot_dir)\n",
    "    return ts_ewm\n",
    "\n",
    "with ProcessPoolExecutor(max_workers=8) as executor:\n",
    "    cap_list = [1e5, 1e6, 1e7]\n",
    "    ts_ewm_list = executor.map(get_rec, cap_list)"
   ]
  },
  {
   "cell_type": "code",
   "execution_count": 6,
   "metadata": {},
   "outputs": [],
   "source": [
    "fig, ax = plt.subplots(figsize=(8, 6))\n",
    "for ts in ts_ewm_list:\n",
    "    label = f\"cap: {int(ts.cap / 1000)}k\"\n",
    "    ts.plot_pnl_cum_curve_rate(ax=ax, label=label)\n",
    "ax.legend()\n",
    "plot_dir = Path(f\"plot_ewm_compare\")\n",
    "plot_dir.mkdir(exist_ok=True)\n",
    "fig.savefig(plot_dir / \"pnl_cum_curve_rate.png\")"
   ]
  }
 ],
 "metadata": {
  "kernelspec": {
   "display_name": "Python 3.9.13 ('aura')",
   "language": "python",
   "name": "python3"
  },
  "language_info": {
   "codemirror_mode": {
    "name": "ipython",
    "version": 3
   },
   "file_extension": ".py",
   "mimetype": "text/x-python",
   "name": "python",
   "nbconvert_exporter": "python",
   "pygments_lexer": "ipython3",
   "version": "3.9.13"
  },
  "orig_nbformat": 4,
  "vscode": {
   "interpreter": {
    "hash": "6154bd16ebceb70a3ff1be700fb1950f38adc2a391f1c8d35353bc1a78d88393"
   }
  }
 },
 "nbformat": 4,
 "nbformat_minor": 2
}
