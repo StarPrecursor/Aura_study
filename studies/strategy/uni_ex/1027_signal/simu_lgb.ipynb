{
 "cells": [
  {
   "cell_type": "code",
   "execution_count": null,
   "metadata": {},
   "outputs": [],
   "source": [
    "import logging\n",
    "from pathlib import Path\n",
    "\n",
    "import numpy as np\n",
    "import pandas as pd\n",
    "import yaml\n",
    "\n",
    "import matplotlib.pyplot as plt\n",
    "import seaborn as sns\n",
    "\n",
    "from artool import ar_ana, ar_model\n",
    "\n",
    "from concurrent.futures import ProcessPoolExecutor\n",
    "\n",
    "# set logging level\n",
    "logging.basicConfig(level=logging.INFO)\n",
    "logging.getLogger(\"artool\").setLevel(logging.INFO)"
   ]
  },
  {
   "cell_type": "code",
   "execution_count": null,
   "metadata": {},
   "outputs": [],
   "source": [
    "# Config\n",
    "model_config_path = Path(\"/home/yangzhe/Aura_study/model/fr_pred/1027_lgb/config.yaml\")\n",
    "with open(model_config_path) as f:\n",
    "    cfg = yaml.load(f, Loader=yaml.FullLoader)\n",
    "model_dir = Path(cfg[\"model_dir\"])"
   ]
  },
  {
   "cell_type": "code",
   "execution_count": null,
   "metadata": {},
   "outputs": [],
   "source": [
    "# Get inputs\n",
    "print(\"Loading inputs...\")\n",
    "df = pd.read_feather(model_dir / \"input.feather\")\n",
    "split_time = pd.to_datetime(cfg[\"train_test_split_date\"])\n",
    "df_tr, df_val, df_te = ar_model.train_utils.data_split_by_time(\n",
    "    df, cfg[\"time\"], split_time, val_ratio=0.2\n",
    ")\n",
    "t_tr = df_tr[cfg[\"time\"]]\n",
    "x_tr = df_tr[cfg[\"features\"]]\n",
    "y_tr = df_tr[cfg[\"target\"]]\n",
    "t_val = df_val[cfg[\"time\"]]\n",
    "x_val = df_val[cfg[\"features\"]]\n",
    "y_val = df_val[cfg[\"target\"]]\n",
    "\n",
    "t_te = df_te[cfg[\"time\"]]\n",
    "x_te = df_te[cfg[\"features\"]]\n",
    "y_te = df_te[cfg[\"target\"]]\n",
    "pr_te = df_te[\"price\"]\n",
    "fr_te = df_te[\"funding_rate\"]\n"
   ]
  },
  {
   "cell_type": "markdown",
   "metadata": {},
   "source": [
    "## Simu lgb"
   ]
  },
  {
   "cell_type": "code",
   "execution_count": null,
   "metadata": {},
   "outputs": [],
   "source": [
    "model = ar_model.fr_model.FRModel_LGB(cfg)\n",
    "model.load_model(model_dir, \"model_epoch2000\")\n",
    "y_te_pred = model.predict(x_te)\n",
    "df_te = df_te.assign(signal=y_te_pred)"
   ]
  },
  {
   "cell_type": "code",
   "execution_count": null,
   "metadata": {},
   "outputs": [],
   "source": [
    "# Plot y_te_pred hist\n",
    "fig, ax = plt.subplots(figsize=(16, 9))\n",
    "sns.histplot(y_te_pred, ax=ax)\n",
    "ax.set_title(\"y_te_pred hist\")\n",
    "ax.set_xlabel(\"y_te_pred\")\n",
    "ax.set_ylabel(\"count\")\n",
    "fig.savefig(\"signal.png\")"
   ]
  },
  {
   "cell_type": "code",
   "execution_count": null,
   "metadata": {},
   "outputs": [],
   "source": [
    "symbols = df_te[\"symbol\"].unique()\n",
    "trade_data = {}\n",
    "for symbol in symbols:\n",
    "    df_tmp = df_te[df_te[\"symbol\"] == symbol]\n",
    "    df_syb = pd.DataFrame()\n",
    "    df_syb[\"time\"] = df_tmp[cfg[\"time\"]]\n",
    "    df_syb[\"price\"] = df_tmp[\"price\"]\n",
    "    df_syb[\"funding_rate\"] = df_tmp[\"funding_rate\"]\n",
    "    df_syb[\"vol\"] = df_tmp[\"vol\"]\n",
    "    df_syb[\"signal\"] = df_tmp[\"signal\"]\n",
    "    trade_data[symbol] = df_syb\n"
   ]
  },
  {
   "cell_type": "markdown",
   "metadata": {},
   "source": [
    "### Compare different capital sizes"
   ]
  },
  {
   "cell_type": "code",
   "execution_count": null,
   "metadata": {},
   "outputs": [],
   "source": [
    "def get_rec(cap):\n",
    "    ts = ar_ana.simu.TradeSimulatorSignalSimple(trade_data)\n",
    "    ts.set_buy_point(0.002)\n",
    "    ts.set_sell_point(-0.001)\n",
    "    ts.trade(cap)\n",
    "    plot_dir = Path(f\"plot_lgb_cap_{int(cap / 1000)}k\")\n",
    "    plot_dir.mkdir(exist_ok=True)\n",
    "    ts.plot_book(plot_dir)\n",
    "    return ts\n",
    "\n",
    "get_rec(1e6)"
   ]
  },
  {
   "cell_type": "code",
   "execution_count": null,
   "metadata": {},
   "outputs": [],
   "source": [
    "\n",
    "\n",
    "with ProcessPoolExecutor(max_workers=8) as executor:\n",
    "    cap_list = [1e5, 1e6, 1e7]\n",
    "    ts_lgb_list = executor.map(get_rec, cap_list)"
   ]
  },
  {
   "cell_type": "code",
   "execution_count": null,
   "metadata": {},
   "outputs": [],
   "source": [
    "fig, ax = plt.subplots(figsize=(8, 6))\n",
    "for ts in ts_lgb_list:\n",
    "    label = f\"cap: {int(ts.cap / 1000)}k\"\n",
    "    ts.plot_pnl_cum_curve_rate(ax=ax, label=label)\n",
    "ax.legend()\n",
    "plot_dir = Path(f\"plot_lgb_compare\")\n",
    "plot_dir.mkdir(exist_ok=True)\n",
    "fig.savefig(plot_dir / \"pnl_cum_curve_rate.png\")"
   ]
  },
  {
   "cell_type": "markdown",
   "metadata": {},
   "source": [
    "### Scan"
   ]
  },
  {
   "cell_type": "code",
   "execution_count": null,
   "metadata": {},
   "outputs": [],
   "source": [
    "scan_dim = {\n",
    "    \"sell_point\": np.linspace(-0.0001, 0.0001, 11),\n",
    "    \"buy_point\": np.linspace(-0.0001, 0.0001, 11),\n",
    "}\n",
    "\n",
    "def obj(sell_point, buy_point):\n",
    "    ts = ar_ana.simu.TradeSimulatorSignalSimple(trade_data)\n",
    "    ts.sell_point = sell_point\n",
    "    ts.buy_point = buy_point\n",
    "    ts.trade(1e6, show_progress=False)\n",
    "    pnl = ts.trade_record[\"pnl\"].sum()\n",
    "    return pnl\n",
    "df_scan = ar_ana.scan.grid_scan(scan_dim, obj)"
   ]
  },
  {
   "cell_type": "code",
   "execution_count": null,
   "metadata": {},
   "outputs": [],
   "source": [
    "# plot heatmap\n",
    "fig, ax = plt.subplots(figsize=(8, 6))\n",
    "df_tmp = df_scan.round(6).pivot(\"sell_point\", \"buy_point\", \"score\")\n",
    "# remove negative values\n",
    "df_tmp[df_tmp < 0] = 0\n",
    "sns.heatmap(df_tmp, ax=ax)\n",
    "plot_dir = Path(f\"plot_lgb_compare\")\n",
    "plot_dir.mkdir(exist_ok=True)\n",
    "fig.savefig(plot_dir / \"trade_point_scan.png\")"
   ]
  }
 ],
 "metadata": {
  "kernelspec": {
   "display_name": "Python 3.9.13 ('aura')",
   "language": "python",
   "name": "python3"
  },
  "language_info": {
   "codemirror_mode": {
    "name": "ipython",
    "version": 3
   },
   "file_extension": ".py",
   "mimetype": "text/x-python",
   "name": "python",
   "nbconvert_exporter": "python",
   "pygments_lexer": "ipython3",
   "version": "3.9.13"
  },
  "orig_nbformat": 4,
  "vscode": {
   "interpreter": {
    "hash": "6154bd16ebceb70a3ff1be700fb1950f38adc2a391f1c8d35353bc1a78d88393"
   }
  }
 },
 "nbformat": 4,
 "nbformat_minor": 2
}
