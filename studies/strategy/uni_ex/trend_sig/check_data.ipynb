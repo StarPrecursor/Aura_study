{
 "cells": [
  {
   "cell_type": "markdown",
   "metadata": {},
   "source": [
    "# Check data\n",
    "\n",
    "Investigate combined data for uni exchange."
   ]
  },
  {
   "cell_type": "code",
   "execution_count": 13,
   "metadata": {},
   "outputs": [],
   "source": [
    "import datetime\n",
    "from pathlib import Path\n",
    "\n",
    "import lightgbm as lgb\n",
    "import numpy as np\n",
    "import pandas as pd\n",
    "from sklearn import metrics\n",
    "from sklearn.metrics import r2_score\n",
    "from sklearn.model_selection import train_test_split\n",
    "from artool import toy\n",
    "from artool.toy.toy_simu import get_pnl_simple\n",
    "\n",
    "# remove limits on number of rows and columns\n",
    "pd.set_option(\"display.max_rows\", None)\n",
    "pd.set_option(\"display.max_columns\", None)\n",
    "\n",
    "import matplotlib\n",
    "matplotlib.use(\"Agg\")  # important to improve performance\n",
    "import matplotlib.pyplot as plt\n",
    "import seaborn as sns\n"
   ]
  },
  {
   "cell_type": "code",
   "execution_count": 14,
   "metadata": {},
   "outputs": [],
   "source": [
    "data_dir = Path(\"/home/yangzhe/data/toy_data_2\")\n",
    "date_start = datetime.datetime(2022, 3, 1)\n",
    "date_end = datetime.datetime(2022, 9, 1)\n",
    "symbols = toy.toy_data.get_symbol_list(date_start, date_end)\n",
    "\n",
    "res_dir = Path(\"./check_data\")\n",
    "res_dir.mkdir(exist_ok=True)"
   ]
  },
  {
   "cell_type": "markdown",
   "metadata": {},
   "source": [
    "## Merge all symbol data"
   ]
  },
  {
   "cell_type": "code",
   "execution_count": 15,
   "metadata": {},
   "outputs": [
    {
     "name": "stdout",
     "output_type": "stream",
     "text": [
      "<class 'pandas.core.frame.DataFrame'>\n",
      "RangeIndex: 107595 entries, 0 to 107594\n",
      "Columns: 120 entries, symbol to mark_price_rol_kurt_50\n",
      "dtypes: float64(119), object(1)\n",
      "memory usage: 98.5+ MB\n"
     ]
    }
   ],
   "source": [
    "# Merge all symbols\n",
    "df = pd.DataFrame()\n",
    "for symbol in symbols:\n",
    "    df_ = pd.read_feather(data_dir / f\"{symbol}.feather\")\n",
    "    # remove head/tail 5 rows\n",
    "    df_ = df_.iloc[5:-5]\n",
    "    df = pd.concat([df, df_], axis=0)\n",
    "df = df.reset_index(drop=True)\n",
    "\n",
    "#df[[\"symbol\", \"funding_rate\", \"funding_rate_future_5\"]].head(10)\n",
    "df.info()"
   ]
  },
  {
   "cell_type": "markdown",
   "metadata": {},
   "source": [
    "## Investigate indicator distribution"
   ]
  },
  {
   "cell_type": "code",
   "execution_count": 16,
   "metadata": {},
   "outputs": [
    {
     "data": {
      "text/plain": [
       "count    107595.000000\n",
       "mean         -0.000166\n",
       "std           0.001223\n",
       "min          -0.052888\n",
       "25%          -0.000323\n",
       "50%           0.000149\n",
       "75%           0.000389\n",
       "max           0.003644\n",
       "Name: funding_rate_expcumsum_5, dtype: float64"
      ]
     },
     "execution_count": 16,
     "metadata": {},
     "output_type": "execute_result"
    }
   ],
   "source": [
    "df[\"funding_rate_expcumsum_5\"].describe()"
   ]
  },
  {
   "cell_type": "code",
   "execution_count": 17,
   "metadata": {},
   "outputs": [
    {
     "name": "stdout",
     "output_type": "stream",
     "text": [
      "funding_rate_expcumsum_5: min=-0.052888190384714026, max=0.003643558068698228\n"
     ]
    }
   ],
   "source": [
    "#for lookforward in [1, 2, 3, 5, 10]:\n",
    "#    ft = f\"funding_rate_expcumsum_{lookforward}\"\n",
    "\n",
    "ft = f\"funding_rate_expcumsum_5\"\n",
    "sr_tmp = df[ft]\n",
    "min_val = sr_tmp.min()\n",
    "max_val = sr_tmp.max()\n",
    "print(f\"{ft}: min={min_val}, max={max_val}\")\n",
    "fig, ax = plt.subplots(figsize=(6, 4))\n",
    "sns.histplot(sr_tmp, ax=ax)\n",
    "ax.set_title(ft)\n",
    "ax.set_xlim(-0.01, 0.01)\n",
    "ax.set_xlabel(ft)\n",
    "ax.set_ylabel(\"count\")\n",
    "fig.savefig(res_dir / f\"{ft}.png\")\n"
   ]
  },
  {
   "cell_type": "markdown",
   "metadata": {},
   "source": [
    "## What are those outliers?"
   ]
  },
  {
   "cell_type": "code",
   "execution_count": 18,
   "metadata": {},
   "outputs": [],
   "source": [
    "ft = f\"funding_rate_expcumsum_5\"\n",
    "df_outlier = df[df[ft] < -0.005]\n",
    "df[\"is_outlier\"] = df[ft] < -0.005"
   ]
  },
  {
   "cell_type": "code",
   "execution_count": 19,
   "metadata": {},
   "outputs": [
    {
     "name": "stdout",
     "output_type": "stream",
     "text": [
      "outlier_ratio: 0.007463172080487012\n"
     ]
    }
   ],
   "source": [
    "df_outlier.shape\n",
    "outlier_ratio = df_outlier.shape[0] / df.shape[0]\n",
    "print(f\"outlier_ratio: {outlier_ratio}\")"
   ]
  },
  {
   "cell_type": "code",
   "execution_count": 20,
   "metadata": {},
   "outputs": [],
   "source": [
    "# count different symbols\n",
    "sb_cnt = df_outlier[\"symbol\"].value_counts()\n",
    "\n",
    "# plot the first 20 symbols horizontally\n",
    "fig, ax = plt.subplots(figsize=(4, 6))\n",
    "sb_cnt[:20][::-1].plot(kind=\"barh\", ax=ax)\n",
    "ax.set_title(\"Top 20 symbols with most outliers\")\n",
    "ax.set_xlabel(\"count\")\n",
    "ax.set_ylabel(\"symbol\")\n",
    "fig.savefig(res_dir / \"top20_symbols.png\")"
   ]
  },
  {
   "cell_type": "code",
   "execution_count": 21,
   "metadata": {},
   "outputs": [
    {
     "data": {
      "text/html": [
       "<div>\n",
       "<style scoped>\n",
       "    .dataframe tbody tr th:only-of-type {\n",
       "        vertical-align: middle;\n",
       "    }\n",
       "\n",
       "    .dataframe tbody tr th {\n",
       "        vertical-align: top;\n",
       "    }\n",
       "\n",
       "    .dataframe thead th {\n",
       "        text-align: right;\n",
       "    }\n",
       "</style>\n",
       "<table border=\"1\" class=\"dataframe\">\n",
       "  <thead>\n",
       "    <tr style=\"text-align: right;\">\n",
       "      <th></th>\n",
       "      <th>symbol</th>\n",
       "      <th>min</th>\n",
       "      <th>max</th>\n",
       "      <th>life_time</th>\n",
       "    </tr>\n",
       "  </thead>\n",
       "  <tbody>\n",
       "    <tr>\n",
       "      <th>0</th>\n",
       "      <td>1INCHUSDT</td>\n",
       "      <td>1.641168e+15</td>\n",
       "      <td>1.661933e+15</td>\n",
       "      <td>240</td>\n",
       "    </tr>\n",
       "    <tr>\n",
       "      <th>1</th>\n",
       "      <td>AAVEUSDT</td>\n",
       "      <td>1.641168e+15</td>\n",
       "      <td>1.661933e+15</td>\n",
       "      <td>240</td>\n",
       "    </tr>\n",
       "    <tr>\n",
       "      <th>2</th>\n",
       "      <td>ADABUSD</td>\n",
       "      <td>1.641168e+15</td>\n",
       "      <td>1.661933e+15</td>\n",
       "      <td>240</td>\n",
       "    </tr>\n",
       "    <tr>\n",
       "      <th>3</th>\n",
       "      <td>ADAUSDT</td>\n",
       "      <td>1.641168e+15</td>\n",
       "      <td>1.661933e+15</td>\n",
       "      <td>240</td>\n",
       "    </tr>\n",
       "    <tr>\n",
       "      <th>4</th>\n",
       "      <td>AKROUSDT</td>\n",
       "      <td>1.641168e+15</td>\n",
       "      <td>1.653523e+15</td>\n",
       "      <td>143</td>\n",
       "    </tr>\n",
       "  </tbody>\n",
       "</table>\n",
       "</div>"
      ],
      "text/plain": [
       "      symbol           min           max  life_time\n",
       "0  1INCHUSDT  1.641168e+15  1.661933e+15        240\n",
       "1   AAVEUSDT  1.641168e+15  1.661933e+15        240\n",
       "2    ADABUSD  1.641168e+15  1.661933e+15        240\n",
       "3    ADAUSDT  1.641168e+15  1.661933e+15        240\n",
       "4   AKROUSDT  1.641168e+15  1.653523e+15        143"
      ]
     },
     "execution_count": 21,
     "metadata": {},
     "output_type": "execute_result"
    }
   ],
   "source": [
    "# Get life time of each symbol\n",
    "life_time = df.groupby(\"symbol\")[\"funding_timestamp\"].agg([\"min\", \"max\"])\n",
    "life_time[\"life_time\"] = pd.to_datetime(life_time[\"max\"], unit=\"us\") - pd.to_datetime(life_time[\"min\"], unit=\"us\")\n",
    "life_time[\"life_time\"] = life_time[\"life_time\"].dt.days\n",
    "life_time.reset_index(inplace=True)\n",
    "life_time.head()\n"
   ]
  },
  {
   "cell_type": "code",
   "execution_count": 22,
   "metadata": {},
   "outputs": [],
   "source": [
    "# plot life time of the first 20 symbols horizontally\n",
    "top_outlier_symbols = sb_cnt.index[:20]\n",
    "top_outlier_lifetimes = []\n",
    "for sb in top_outlier_symbols:\n",
    "    top_outlier_lifetimes.append(life_time[life_time[\"symbol\"] == sb][\"life_time\"].values[0])\n",
    "df_tmp = pd.DataFrame({\"symbol\": top_outlier_symbols, \"life_time\": top_outlier_lifetimes})\n",
    "\n",
    "fig, ax = plt.subplots(figsize=(4, 6))\n",
    "df_tmp[::-1].plot(kind=\"barh\", x=\"symbol\", y=\"life_time\", ax=ax)\n",
    "ax.set_title(\"Top 20 symbols with most outliers\")\n",
    "ax.set_xlabel(\"life time (days)\")\n",
    "ax.set_ylabel(\"symbol\")\n",
    "fig.savefig(res_dir / \"top20_symbols_lifetime.png\")\n"
   ]
  },
  {
   "cell_type": "markdown",
   "metadata": {},
   "source": [
    "## Check relation\n",
    "funding_rate_expcumsum_5 and funding_rate_future_5"
   ]
  },
  {
   "cell_type": "code",
   "execution_count": 23,
   "metadata": {},
   "outputs": [],
   "source": [
    "fig, ax = plt.subplots(figsize=(8, 6))\n",
    "# plot funding_rate_future_5 distribution\n",
    "fr_fut5_not_outlier = df[df[\"is_outlier\"] == False][\"funding_rate_future_5\"]\n",
    "fr_fut5_outlier = df[df[\"is_outlier\"] == True][\"funding_rate_future_5\"]\n",
    "sns.kdeplot(fr_fut5_not_outlier, ax=ax, label=\"not outlier\")\n",
    "sns.kdeplot(fr_fut5_outlier, ax=ax, label=\"outlier\")\n",
    "ax.set_ylim(0.1, 2000)\n",
    "ax.set_yscale(\"log\")\n",
    "ax.set_title(\"funding_rate_future_5\")\n",
    "ax.set_xlabel(\"funding_rate_future_5\")\n",
    "ax.set_ylabel(\"arb. unit\")\n",
    "ax.legend()\n",
    "fig.savefig(res_dir / \"funding_rate_future_5.png\")"
   ]
  },
  {
   "cell_type": "markdown",
   "metadata": {},
   "source": [
    "## Other"
   ]
  },
  {
   "cell_type": "code",
   "execution_count": 25,
   "metadata": {},
   "outputs": [
    {
     "data": {
      "text/plain": [
       "count    107595.000000\n",
       "mean         -0.000038\n",
       "std           0.000390\n",
       "min          -0.018750\n",
       "25%          -0.000071\n",
       "50%           0.000095\n",
       "75%           0.000100\n",
       "max           0.004861\n",
       "Name: funding_rate, dtype: float64"
      ]
     },
     "execution_count": 25,
     "metadata": {},
     "output_type": "execute_result"
    }
   ],
   "source": [
    "# Plot funding rate\n",
    "fig, ax = plt.subplots(figsize=(8, 6))\n",
    "fr = df[\"funding_rate\"]\n",
    "sns.kdeplot(fr, ax=ax)\n",
    "ax.set_title(\"funding_rate\")\n",
    "ax.set_xlabel(\"funding_rate\")\n",
    "ax.set_ylabel(\"arb. unit\")\n",
    "fig.savefig(res_dir / \"funding_rate.png\")\n",
    "fr.describe()"
   ]
  },
  {
   "cell_type": "code",
   "execution_count": null,
   "metadata": {},
   "outputs": [],
   "source": []
  }
 ],
 "metadata": {
  "kernelspec": {
   "display_name": "Python 3.9.13 ('aura')",
   "language": "python",
   "name": "python3"
  },
  "language_info": {
   "codemirror_mode": {
    "name": "ipython",
    "version": 3
   },
   "file_extension": ".py",
   "mimetype": "text/x-python",
   "name": "python",
   "nbconvert_exporter": "python",
   "pygments_lexer": "ipython3",
   "version": "3.9.13"
  },
  "orig_nbformat": 4,
  "vscode": {
   "interpreter": {
    "hash": "6154bd16ebceb70a3ff1be700fb1950f38adc2a391f1c8d35353bc1a78d88393"
   }
  }
 },
 "nbformat": 4,
 "nbformat_minor": 2
}
