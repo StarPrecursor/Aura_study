{
 "cells": [
  {
   "cell_type": "markdown",
   "metadata": {},
   "source": [
    "# Trade use trend strategy long+short"
   ]
  },
  {
   "cell_type": "code",
   "execution_count": 1,
   "metadata": {},
   "outputs": [],
   "source": [
    "import datetime\n",
    "from pathlib import Path\n",
    "\n",
    "import numpy as np\n",
    "import pandas as pd\n",
    "import artool\n",
    "from artool import toy, analyze\n",
    "from artool.toy.toy_simu import get_pnl_2side\n",
    "\n",
    "# remove limits on number of rows and columns\n",
    "pd.set_option(\"display.max_rows\", None)\n",
    "pd.set_option(\"display.max_columns\", None)\n",
    "\n",
    "import matplotlib\n",
    "\n",
    "matplotlib.use(\"Agg\")  # use to improve performance\n",
    "import matplotlib.pyplot as plt\n",
    "import seaborn as sns\n"
   ]
  },
  {
   "cell_type": "markdown",
   "metadata": {},
   "source": [
    "## Data\n"
   ]
  },
  {
   "cell_type": "code",
   "execution_count": 2,
   "metadata": {},
   "outputs": [
    {
     "name": "stdout",
     "output_type": "stream",
     "text": [
      "number of symbols: 129\n"
     ]
    }
   ],
   "source": [
    "data_dir = Path(\"/home/yangzhe/data/toy_data_2\")\n",
    "date_start = datetime.datetime(2022, 1, 1)\n",
    "date_end = datetime.datetime(2022, 9, 1)\n",
    "symbols = toy.toy_data.get_symbol_list(date_start, date_end, logic=\"and\")\n",
    "print(f\"number of symbols: {len(symbols)}\")\n",
    "\n",
    "df = pd.DataFrame()\n",
    "for symbol in symbols:\n",
    "    df_ = pd.read_feather(data_dir / f\"{symbol}.feather\")\n",
    "    # remove head/tail 5 rows\n",
    "    df_ = df_.iloc[5:-5]\n",
    "    df = pd.concat([df, df_], axis=0)\n",
    "df = df.reset_index(drop=True)\n"
   ]
  },
  {
   "cell_type": "code",
   "execution_count": 3,
   "metadata": {},
   "outputs": [],
   "source": [
    "train_end_date = datetime.datetime(2022, 6, 1)\n",
    "train_idx = df[\"funding_timestamp\"] < train_end_date.timestamp() * 1e6\n",
    "test_idx = ~train_idx\n",
    "df_train = df[train_idx]\n",
    "df_test = df[test_idx]\n",
    "\n",
    "x_feature = \"funding_rate_expcumsum_5\"\n",
    "y_feature = \"funding_rate_future_5\"\n"
   ]
  },
  {
   "cell_type": "code",
   "execution_count": 4,
   "metadata": {},
   "outputs": [],
   "source": [
    "best_buy_short = 0.0002\n",
    "best_sell_short = -0.0001\n",
    "buy_dim = np.linspace(-5e-4, 0, 21)\n",
    "sell_dim = np.linspace(-1e-4, 3e-4, 41)\n"
   ]
  },
  {
   "cell_type": "markdown",
   "metadata": {},
   "source": [
    "## Method 0\n",
    "\n",
    "Use all symbols available."
   ]
  },
  {
   "cell_type": "code",
   "execution_count": 5,
   "metadata": {},
   "outputs": [],
   "source": [
    "method_0_dir = Path(\"./method_0\")\n",
    "method_0_dir.mkdir(exist_ok=True)\n"
   ]
  },
  {
   "cell_type": "markdown",
   "metadata": {},
   "source": [
    "toy"
   ]
  },
  {
   "cell_type": "code",
   "execution_count": 6,
   "metadata": {},
   "outputs": [
    {
     "name": "stdout",
     "output_type": "stream",
     "text": [
      "Position len 276\n",
      "Number of non-zero short: 117\n",
      "Number of non-zero long: 137\n",
      "Position len 276\n",
      "Number of non-zero short: 126\n",
      "Number of non-zero long: 126\n",
      "Position len 276\n",
      "Number of non-zero short: 94\n",
      "Number of non-zero long: 129\n",
      "Position len 276\n",
      "Number of non-zero short: 106\n",
      "Number of non-zero long: 135\n",
      "Position len 276\n",
      "Number of non-zero short: 192\n",
      "Number of non-zero long: 56\n",
      "Position len 276\n",
      "Number of non-zero short: 184\n",
      "Number of non-zero long: 74\n",
      "Position len 276\n",
      "Number of non-zero short: 209\n",
      "Number of non-zero long: 53\n",
      "Position len 276\n",
      "Number of non-zero short: 137\n",
      "Number of non-zero long: 124\n",
      "Position len 276\n",
      "Number of non-zero short: 172\n",
      "Number of non-zero long: 78\n",
      "Position len 276\n",
      "Number of non-zero short: 113\n",
      "Number of non-zero long: 138\n",
      "Position len 276\n",
      "Number of non-zero short: 242\n",
      "Number of non-zero long: 24\n",
      "Position len 276\n",
      "Number of non-zero short: 183\n",
      "Number of non-zero long: 74\n",
      "Position len 276\n",
      "Number of non-zero short: 71\n",
      "Number of non-zero long: 169\n",
      "Position len 276\n",
      "Number of non-zero short: 88\n",
      "Number of non-zero long: 148\n",
      "Position len 276\n",
      "Number of non-zero short: 103\n",
      "Number of non-zero long: 149\n",
      "Position len 276\n",
      "Number of non-zero short: 0\n",
      "Number of non-zero long: 275\n",
      "Position len 276\n",
      "Number of non-zero short: 151\n",
      "Number of non-zero long: 98\n",
      "Position len 276\n",
      "Number of non-zero short: 103\n",
      "Number of non-zero long: 158\n",
      "Position len 276\n",
      "Number of non-zero short: 175\n",
      "Number of non-zero long: 75\n",
      "Position len 276\n",
      "Number of non-zero short: 181\n",
      "Number of non-zero long: 71\n",
      "Position len 276\n",
      "Number of non-zero short: 69\n",
      "Number of non-zero long: 195\n",
      "Position len 276\n",
      "Number of non-zero short: 75\n",
      "Number of non-zero long: 188\n",
      "Position len 276\n",
      "Number of non-zero short: 169\n",
      "Number of non-zero long: 85\n",
      "Position len 276\n",
      "Number of non-zero short: 0\n",
      "Number of non-zero long: 275\n",
      "Position len 276\n",
      "Number of non-zero short: 0\n",
      "Number of non-zero long: 275\n",
      "Position len 276\n",
      "Number of non-zero short: 139\n",
      "Number of non-zero long: 104\n",
      "Position len 276\n",
      "Number of non-zero short: 211\n",
      "Number of non-zero long: 28\n",
      "Position len 276\n",
      "Number of non-zero short: 34\n",
      "Number of non-zero long: 212\n",
      "Position len 276\n",
      "Number of non-zero short: 214\n",
      "Number of non-zero long: 39\n",
      "Position len 276\n",
      "Number of non-zero short: 173\n",
      "Number of non-zero long: 83\n",
      "Position len 276\n",
      "Number of non-zero short: 149\n",
      "Number of non-zero long: 86\n",
      "Position len 276\n",
      "Number of non-zero short: 203\n",
      "Number of non-zero long: 54\n",
      "Position len 276\n",
      "Number of non-zero short: 128\n",
      "Number of non-zero long: 141\n",
      "Position len 276\n",
      "Number of non-zero short: 80\n",
      "Number of non-zero long: 168\n",
      "Position len 276\n",
      "Number of non-zero short: 9\n",
      "Number of non-zero long: 237\n",
      "Position len 276\n",
      "Number of non-zero short: 101\n",
      "Number of non-zero long: 148\n",
      "Position len 276\n",
      "Number of non-zero short: 128\n",
      "Number of non-zero long: 129\n",
      "Position len 276\n",
      "Number of non-zero short: 72\n",
      "Number of non-zero long: 157\n",
      "Position len 276\n",
      "Number of non-zero short: 170\n",
      "Number of non-zero long: 73\n",
      "Position len 276\n",
      "Number of non-zero short: 186\n",
      "Number of non-zero long: 62\n",
      "Position len 276\n",
      "Number of non-zero short: 105\n",
      "Number of non-zero long: 149\n",
      "Position len 276\n",
      "Number of non-zero short: 211\n",
      "Number of non-zero long: 35\n",
      "Position len 276\n",
      "Number of non-zero short: 222\n",
      "Number of non-zero long: 38\n",
      "Position len 276\n",
      "Number of non-zero short: 0\n",
      "Number of non-zero long: 275\n",
      "Position len 276\n",
      "Number of non-zero short: 22\n",
      "Number of non-zero long: 229\n",
      "Position len 276\n",
      "Number of non-zero short: 141\n",
      "Number of non-zero long: 113\n",
      "Position len 276\n",
      "Number of non-zero short: 159\n",
      "Number of non-zero long: 85\n",
      "Position len 276\n",
      "Number of non-zero short: 183\n",
      "Number of non-zero long: 59\n",
      "Position len 276\n",
      "Number of non-zero short: 163\n",
      "Number of non-zero long: 74\n",
      "Position len 276\n",
      "Number of non-zero short: 107\n",
      "Number of non-zero long: 139\n",
      "Position len 276\n",
      "Number of non-zero short: 89\n",
      "Number of non-zero long: 108\n",
      "Position len 276\n",
      "Number of non-zero short: 163\n",
      "Number of non-zero long: 78\n",
      "Position len 276\n",
      "Number of non-zero short: 181\n",
      "Number of non-zero long: 67\n",
      "Position len 276\n",
      "Number of non-zero short: 192\n",
      "Number of non-zero long: 68\n",
      "Position len 276\n",
      "Number of non-zero short: 106\n",
      "Number of non-zero long: 157\n",
      "Position len 276\n",
      "Number of non-zero short: 84\n",
      "Number of non-zero long: 163\n",
      "Position len 276\n",
      "Number of non-zero short: 169\n",
      "Number of non-zero long: 68\n",
      "Position len 276\n",
      "Number of non-zero short: 219\n",
      "Number of non-zero long: 32\n",
      "Position len 276\n",
      "Number of non-zero short: 187\n",
      "Number of non-zero long: 59\n",
      "Position len 276\n",
      "Number of non-zero short: 181\n",
      "Number of non-zero long: 65\n",
      "Position len 276\n",
      "Number of non-zero short: 155\n",
      "Number of non-zero long: 95\n",
      "Position len 276\n",
      "Number of non-zero short: 189\n",
      "Number of non-zero long: 68\n",
      "Position len 276\n",
      "Number of non-zero short: 161\n",
      "Number of non-zero long: 92\n",
      "Position len 276\n",
      "Number of non-zero short: 111\n",
      "Number of non-zero long: 138\n",
      "Position len 276\n",
      "Number of non-zero short: 173\n",
      "Number of non-zero long: 56\n",
      "Position len 276\n",
      "Number of non-zero short: 156\n",
      "Number of non-zero long: 88\n",
      "Position len 276\n",
      "Number of non-zero short: 7\n",
      "Number of non-zero long: 231\n",
      "Position len 276\n",
      "Number of non-zero short: 130\n",
      "Number of non-zero long: 123\n",
      "Position len 276\n",
      "Number of non-zero short: 167\n",
      "Number of non-zero long: 87\n",
      "Position len 276\n",
      "Number of non-zero short: 32\n",
      "Number of non-zero long: 219\n",
      "Position len 276\n",
      "Number of non-zero short: 115\n",
      "Number of non-zero long: 111\n",
      "Position len 276\n",
      "Number of non-zero short: 198\n",
      "Number of non-zero long: 62\n",
      "Position len 276\n",
      "Number of non-zero short: 225\n",
      "Number of non-zero long: 37\n",
      "Position len 276\n",
      "Number of non-zero short: 102\n",
      "Number of non-zero long: 134\n",
      "Position len 276\n",
      "Number of non-zero short: 142\n",
      "Number of non-zero long: 111\n",
      "Position len 276\n",
      "Number of non-zero short: 181\n",
      "Number of non-zero long: 41\n",
      "Position len 276\n",
      "Number of non-zero short: 131\n",
      "Number of non-zero long: 107\n",
      "Position len 276\n",
      "Number of non-zero short: 188\n",
      "Number of non-zero long: 62\n",
      "Position len 276\n",
      "Number of non-zero short: 87\n",
      "Number of non-zero long: 172\n",
      "Position len 276\n",
      "Number of non-zero short: 161\n",
      "Number of non-zero long: 101\n",
      "Position len 276\n",
      "Number of non-zero short: 43\n",
      "Number of non-zero long: 227\n",
      "Position len 276\n",
      "Number of non-zero short: 62\n",
      "Number of non-zero long: 185\n",
      "Position len 276\n",
      "Number of non-zero short: 151\n",
      "Number of non-zero long: 93\n",
      "Position len 276\n",
      "Number of non-zero short: 87\n",
      "Number of non-zero long: 175\n",
      "Position len 276\n",
      "Number of non-zero short: 127\n",
      "Number of non-zero long: 125\n",
      "Position len 276\n",
      "Number of non-zero short: 134\n",
      "Number of non-zero long: 116\n",
      "Position len 276\n",
      "Number of non-zero short: 195\n",
      "Number of non-zero long: 56\n",
      "Position len 276\n",
      "Number of non-zero short: 54\n",
      "Number of non-zero long: 198\n",
      "Position len 276\n",
      "Number of non-zero short: 101\n",
      "Number of non-zero long: 129\n",
      "Position len 276\n",
      "Number of non-zero short: 177\n",
      "Number of non-zero long: 83\n",
      "Position len 276\n",
      "Number of non-zero short: 65\n",
      "Number of non-zero long: 191\n",
      "Position len 276\n",
      "Number of non-zero short: 151\n",
      "Number of non-zero long: 99\n",
      "Position len 276\n",
      "Number of non-zero short: 155\n",
      "Number of non-zero long: 102\n",
      "Position len 276\n",
      "Number of non-zero short: 187\n",
      "Number of non-zero long: 73\n",
      "Position len 276\n",
      "Number of non-zero short: 58\n",
      "Number of non-zero long: 186\n",
      "Position len 276\n",
      "Number of non-zero short: 176\n",
      "Number of non-zero long: 88\n",
      "Position len 276\n",
      "Number of non-zero short: 2\n",
      "Number of non-zero long: 261\n",
      "Position len 276\n",
      "Number of non-zero short: 180\n",
      "Number of non-zero long: 73\n",
      "Position len 276\n",
      "Number of non-zero short: 200\n",
      "Number of non-zero long: 61\n",
      "Position len 276\n",
      "Number of non-zero short: 27\n",
      "Number of non-zero long: 217\n",
      "Position len 276\n",
      "Number of non-zero short: 198\n",
      "Number of non-zero long: 39\n",
      "Position len 276\n",
      "Number of non-zero short: 175\n",
      "Number of non-zero long: 70\n",
      "Position len 276\n",
      "Number of non-zero short: 0\n",
      "Number of non-zero long: 261\n",
      "Position len 276\n",
      "Number of non-zero short: 113\n",
      "Number of non-zero long: 136\n",
      "Position len 276\n",
      "Number of non-zero short: 126\n",
      "Number of non-zero long: 114\n",
      "Position len 276\n",
      "Number of non-zero short: 42\n",
      "Number of non-zero long: 208\n",
      "Position len 276\n",
      "Number of non-zero short: 167\n",
      "Number of non-zero long: 81\n",
      "Position len 276\n",
      "Number of non-zero short: 98\n",
      "Number of non-zero long: 161\n",
      "Position len 276\n",
      "Number of non-zero short: 159\n",
      "Number of non-zero long: 91\n",
      "Position len 276\n",
      "Number of non-zero short: 145\n",
      "Number of non-zero long: 103\n",
      "Position len 276\n",
      "Number of non-zero short: 204\n",
      "Number of non-zero long: 55\n",
      "Position len 276\n",
      "Number of non-zero short: 205\n",
      "Number of non-zero long: 54\n",
      "Position len 276\n",
      "Number of non-zero short: 222\n",
      "Number of non-zero long: 23\n",
      "Position len 276\n",
      "Number of non-zero short: 32\n",
      "Number of non-zero long: 241\n",
      "Position len 276\n",
      "Number of non-zero short: 200\n",
      "Number of non-zero long: 61\n",
      "Position len 276\n",
      "Number of non-zero short: 221\n",
      "Number of non-zero long: 41\n",
      "Position len 276\n",
      "Number of non-zero short: 166\n",
      "Number of non-zero long: 87\n",
      "Position len 276\n",
      "Number of non-zero short: 54\n",
      "Number of non-zero long: 201\n",
      "Position len 276\n",
      "Number of non-zero short: 86\n",
      "Number of non-zero long: 169\n",
      "Position len 276\n",
      "Number of non-zero short: 148\n",
      "Number of non-zero long: 107\n",
      "Position len 276\n",
      "Number of non-zero short: 60\n",
      "Number of non-zero long: 162\n",
      "Position len 276\n",
      "Number of non-zero short: 30\n",
      "Number of non-zero long: 190\n",
      "Position len 276\n",
      "Number of non-zero short: 41\n",
      "Number of non-zero long: 149\n",
      "Position len 276\n",
      "Number of non-zero short: 176\n",
      "Number of non-zero long: 70\n",
      "Position len 276\n",
      "Number of non-zero short: 93\n",
      "Number of non-zero long: 145\n",
      "Position len 276\n",
      "Number of non-zero short: 238\n",
      "Number of non-zero long: 27\n",
      "Position len 276\n",
      "Number of non-zero short: 247\n",
      "Number of non-zero long: 18\n",
      "Position len 276\n",
      "Number of non-zero short: 188\n",
      "Number of non-zero long: 55\n",
      "Position len 276\n",
      "Number of non-zero short: 97\n",
      "Number of non-zero long: 154\n",
      "total_pnl: 1.42317754, n_symbols: 129\n",
      "pnl_rate (y): 4.412953612403101 %\n"
     ]
    }
   ],
   "source": [
    "buythres_short = best_buy_short\n",
    "sellthres_short = best_sell_short\n",
    "buythres_long = -1e-4\n",
    "sellthres_long = 0\n",
    "total_pnl = 0\n",
    "for symbol in symbols:\n",
    "    x = df_test.loc[df_test[\"symbol\"] == symbol, x_feature].values\n",
    "    y = df_test.loc[df_test[\"symbol\"] == symbol, y_feature].values\n",
    "    fr = df_test.loc[df_test[\"symbol\"] == symbol, \"funding_rate\"].values\n",
    "    cur_pnl = get_pnl_2side(\n",
    "        x,\n",
    "        fr,\n",
    "        buythres_short,\n",
    "        sellthres_short,\n",
    "        buythres_long,\n",
    "        sellthres_long,\n",
    "        verbose=True,\n",
    "    )\n",
    "    total_pnl += cur_pnl\n",
    "pnl_rate = total_pnl / len(symbols)\n",
    "print(f\"total_pnl: {total_pnl}, n_symbols: {len(symbols)}\")\n",
    "print(f\"pnl_rate (y): {pnl_rate * 4 * 100} %\")\n"
   ]
  },
  {
   "cell_type": "markdown",
   "metadata": {},
   "source": [
    "Scan train to get optimal thresould"
   ]
  },
  {
   "cell_type": "code",
   "execution_count": 12,
   "metadata": {},
   "outputs": [
    {
     "name": "stderr",
     "output_type": "stream",
     "text": [
      "100%|██████████| 861/861 [00:38<00:00, 22.59it/s]\n"
     ]
    },
    {
     "name": "stdout",
     "output_type": "stream",
     "text": [
      "best_buy: -0.000275, best_sell: 0.000180\n",
      "max profit rate per year: 4.6199 %\n"
     ]
    }
   ],
   "source": [
    "# scan buythres and sellthres\n",
    "dims = {\"buythres\": buy_dim, \"sellthres\": sell_dim}\n",
    "\n",
    "\n",
    "def obj_train(buythres, sellthres):\n",
    "    total_pnl = 0\n",
    "    for symbol in symbols:\n",
    "        x = df_train.loc[df_train[\"symbol\"] == symbol, x_feature].values\n",
    "        fr = df_train.loc[df_train[\"symbol\"] == symbol, \"funding_rate\"].values\n",
    "        cur_pnl = get_pnl_2side(\n",
    "            x, fr, best_buy_short, best_sell_short, buythres, sellthres\n",
    "        )\n",
    "        total_pnl += cur_pnl\n",
    "    pnl_rate = total_pnl / len(symbols)\n",
    "    return pnl_rate * 12 / 5\n",
    "\n",
    "\n",
    "df_scan = artool.analyze.scan.grid_scan(dims, obj_train)\n",
    "\n",
    "# find optimal buythres and sellthres\n",
    "df_tmp = df_scan.sort_values(by=\"score\", ascending=False)\n",
    "best_buy = df_tmp.iloc[0][\"buythres\"]\n",
    "best_sell = df_tmp.iloc[0][\"sellthres\"]\n",
    "max_agr = df_tmp.iloc[0][\"score\"]  # max annual growth rate\n",
    "print(f\"best_buy: {best_buy:.6f}, best_sell: {best_sell:.6f}\")\n",
    "print(f\"max profit rate per year: {max_agr * 100:.4f} %\")\n",
    "opt_train = {\n",
    "    \"buythres\": best_buy,\n",
    "    \"sellthres\": best_sell,\n",
    "    \"max_agr\": max_agr,\n",
    "}\n",
    "\n",
    "# Plot heat map\n",
    "fig, ax = plt.subplots(figsize=(8, 8))\n",
    "df_tmp = df_scan.round(6).pivot(\"buythres\", \"sellthres\", \"score\")\n",
    "sns.heatmap(df_tmp, ax=ax)\n",
    "# add max_agr\n",
    "ax.set_title(f\"max_agr: {max_agr * 100:.4f} %\")\n",
    "fig.savefig(method_0_dir / \"trend_sig.train.png\")\n",
    "plt.close(fig)\n"
   ]
  },
  {
   "cell_type": "markdown",
   "metadata": {},
   "source": [
    "Scan test for validation"
   ]
  },
  {
   "cell_type": "code",
   "execution_count": 14,
   "metadata": {},
   "outputs": [
    {
     "name": "stderr",
     "output_type": "stream",
     "text": [
      "100%|██████████| 861/861 [00:25<00:00, 34.41it/s]\n"
     ]
    },
    {
     "name": "stdout",
     "output_type": "stream",
     "text": [
      "best_buy: -0.000175, best_sell: 0.000160\n",
      "max profit rate per year: 4.4903 %\n"
     ]
    }
   ],
   "source": [
    "# scan buythres and sellthres\n",
    "dims = {\"buythres\": buy_dim, \"sellthres\": sell_dim}\n",
    "\n",
    "\n",
    "def obj_test(buythres, sellthres):\n",
    "    total_pnl = 0\n",
    "    for symbol in symbols:\n",
    "        x = df_test.loc[df_test[\"symbol\"] == symbol, x_feature].values\n",
    "        fr = df_test.loc[df_test[\"symbol\"] == symbol, \"funding_rate\"].values\n",
    "        cur_pnl = get_pnl_2side(\n",
    "            x, fr, best_buy_short, best_sell_short, buythres, sellthres\n",
    "        )\n",
    "        total_pnl += cur_pnl\n",
    "    pnl_rate = total_pnl / len(symbols)\n",
    "    return pnl_rate * 4\n",
    "\n",
    "\n",
    "df_scan = artool.analyze.scan.grid_scan(dims, obj_test)\n",
    "\n",
    "# find optimal buythres and sellthres\n",
    "df_tmp = df_scan.sort_values(by=\"score\", ascending=False)\n",
    "best_buy = df_tmp.iloc[0][\"buythres\"]\n",
    "best_sell = df_tmp.iloc[0][\"sellthres\"]\n",
    "max_agr = df_tmp.iloc[0][\"score\"]  # max annual growth rate\n",
    "print(f\"best_buy: {best_buy:.6f}, best_sell: {best_sell:.6f}\")\n",
    "print(f\"max profit rate per year: {max_agr * 100:.4f} %\")\n",
    "opt_test = {\n",
    "    \"buythres\": best_buy,\n",
    "    \"sellthres\": best_sell,\n",
    "    \"max_agr\": max_agr,\n",
    "}\n",
    "\n",
    "# Plot heat map\n",
    "fig, ax = plt.subplots(figsize=(8, 8))\n",
    "df_tmp = df_scan.round(6).pivot(\"buythres\", \"sellthres\", \"score\")\n",
    "sns.heatmap(df_tmp, ax=ax)\n",
    "ax.set_title(f\"max_agr: {max_agr * 100:.4f} %\")\n",
    "fig.savefig(method_0_dir / \"trend_sig.test.png\")\n",
    "plt.close(fig)\n"
   ]
  },
  {
   "cell_type": "markdown",
   "metadata": {},
   "source": [
    "Check optimal training result at test"
   ]
  },
  {
   "cell_type": "code",
   "execution_count": 15,
   "metadata": {},
   "outputs": [
    {
     "name": "stdout",
     "output_type": "stream",
     "text": [
      "agr_diff: -0.6933 %\n"
     ]
    }
   ],
   "source": [
    "agr_tr_opt = obj_test(opt_train[\"buythres\"], opt_train[\"sellthres\"])\n",
    "agr_diff = (agr_tr_opt - opt_test[\"max_agr\"]) / opt_test[\"max_agr\"]\n",
    "print(f\"agr_diff: {agr_diff * 100:.4f} %\")\n"
   ]
  },
  {
   "cell_type": "markdown",
   "metadata": {},
   "source": [
    "## Method 1\n",
    "\n",
    "Only use symbol with high correlation"
   ]
  },
  {
   "cell_type": "code",
   "execution_count": 16,
   "metadata": {},
   "outputs": [],
   "source": [
    "method_1_dir = Path(\"./method_1\")\n",
    "method_1_dir.mkdir(exist_ok=True)\n"
   ]
  },
  {
   "cell_type": "markdown",
   "metadata": {},
   "source": [
    "Check correlations"
   ]
  },
  {
   "cell_type": "code",
   "execution_count": 17,
   "metadata": {},
   "outputs": [],
   "source": [
    "corr_dict = {}\n",
    "for symbol in symbols:\n",
    "    x = df_train.loc[df_train[\"symbol\"] == symbol, x_feature].values\n",
    "    y = df_train.loc[df_train[\"symbol\"] == symbol, y_feature].values\n",
    "    corr_dict[symbol] = np.corrcoef(x, y)[0, 1]\n",
    "# Plot correlation_distribution\n",
    "fig, ax = plt.subplots()\n",
    "sns.kdeplot(list(corr_dict.values()), ax=ax)\n",
    "ax.set_title(\"x vs y correlation\")\n",
    "fig.savefig(method_1_dir / \"corr_dist.png\")\n"
   ]
  },
  {
   "cell_type": "markdown",
   "metadata": {},
   "source": [
    "Scan train and find optimal threshold"
   ]
  },
  {
   "cell_type": "code",
   "execution_count": 18,
   "metadata": {},
   "outputs": [
    {
     "name": "stdout",
     "output_type": "stream",
     "text": [
      "# num of symbols with corr > 0.3: 117\n"
     ]
    },
    {
     "name": "stderr",
     "output_type": "stream",
     "text": [
      "100%|██████████| 861/861 [00:34<00:00, 24.90it/s]\n"
     ]
    },
    {
     "name": "stdout",
     "output_type": "stream",
     "text": [
      "best_buy: -0.000275, best_sell: 0.000180\n",
      "max profit rate per year: 4.7283 %\n",
      "# num of symbols with corr > 0.5: 79\n"
     ]
    },
    {
     "name": "stderr",
     "output_type": "stream",
     "text": [
      "100%|██████████| 861/861 [00:23<00:00, 36.85it/s]\n"
     ]
    },
    {
     "name": "stdout",
     "output_type": "stream",
     "text": [
      "best_buy: -0.000325, best_sell: 0.000290\n",
      "max profit rate per year: 4.8788 %\n",
      "# num of symbols with corr > 0.7: 11\n"
     ]
    },
    {
     "name": "stderr",
     "output_type": "stream",
     "text": [
      "100%|██████████| 861/861 [00:03<00:00, 259.62it/s]\n"
     ]
    },
    {
     "name": "stdout",
     "output_type": "stream",
     "text": [
      "best_buy: -0.000350, best_sell: 0.000140\n",
      "max profit rate per year: 5.5023 %\n",
      "# num of symbols with corr > 0.72: 9\n"
     ]
    },
    {
     "name": "stderr",
     "output_type": "stream",
     "text": [
      "100%|██████████| 861/861 [00:02<00:00, 313.70it/s]\n"
     ]
    },
    {
     "name": "stdout",
     "output_type": "stream",
     "text": [
      "best_buy: -0.000350, best_sell: 0.000150\n",
      "max profit rate per year: 5.7712 %\n",
      "# num of symbols with corr > 0.73: 7\n"
     ]
    },
    {
     "name": "stderr",
     "output_type": "stream",
     "text": [
      "100%|██████████| 861/861 [00:02<00:00, 406.90it/s]\n"
     ]
    },
    {
     "name": "stdout",
     "output_type": "stream",
     "text": [
      "best_buy: -0.000350, best_sell: 0.000150\n",
      "max profit rate per year: 6.1731 %\n",
      "# num of symbols with corr > 0.74: 5\n"
     ]
    },
    {
     "name": "stderr",
     "output_type": "stream",
     "text": [
      "100%|██████████| 861/861 [00:01<00:00, 549.60it/s]\n"
     ]
    },
    {
     "name": "stdout",
     "output_type": "stream",
     "text": [
      "best_buy: -0.000350, best_sell: 0.000140\n",
      "max profit rate per year: 6.3527 %\n",
      "# num of symbols with corr > 0.75: 3\n"
     ]
    },
    {
     "name": "stderr",
     "output_type": "stream",
     "text": [
      "100%|██████████| 861/861 [00:01<00:00, 857.88it/s] \n"
     ]
    },
    {
     "name": "stdout",
     "output_type": "stream",
     "text": [
      "best_buy: -0.000375, best_sell: 0.000270\n",
      "max profit rate per year: 6.6136 %\n",
      "# num of symbols with corr > 0.76: 1\n"
     ]
    },
    {
     "name": "stderr",
     "output_type": "stream",
     "text": [
      "100%|██████████| 861/861 [00:00<00:00, 1532.12it/s]\n"
     ]
    },
    {
     "name": "stdout",
     "output_type": "stream",
     "text": [
      "best_buy: -0.000125, best_sell: 0.000060\n",
      "max profit rate per year: 10.8689 %\n"
     ]
    }
   ],
   "source": [
    "agr_dict_tr = {}\n",
    "for corr_thre in [0.3, 0.5, 0.7, 0.72, 0.73, 0.74, 0.75, 0.76]:\n",
    "    # corr_thre = 0.65\n",
    "    symbols_high_corr = [k for k, v in corr_dict.items() if v > corr_thre]\n",
    "    print(f\"# num of symbols with corr > {corr_thre}: {len(symbols_high_corr)}\")\n",
    "    if len(symbols_high_corr) == 0:\n",
    "        continue\n",
    "\n",
    "    # scan buythres and sellthres\n",
    "    dims = {\"buythres\": buy_dim, \"sellthres\": sell_dim}\n",
    "\n",
    "    def obj_train(buythres, sellthres):\n",
    "        total_pnl = 0\n",
    "        for symbol in symbols_high_corr:\n",
    "            x = df_train.loc[df_train[\"symbol\"] == symbol, x_feature].values\n",
    "            fr = df_train.loc[df_train[\"symbol\"] == symbol, \"funding_rate\"].values\n",
    "            cur_pnl = get_pnl_2side(\n",
    "                x, fr, best_buy_short, best_sell_short, buythres, sellthres\n",
    "            )\n",
    "            total_pnl += cur_pnl\n",
    "        pnl_rate = total_pnl / len(symbols_high_corr)\n",
    "        return pnl_rate * 12 / 5\n",
    "\n",
    "    df_scan = artool.analyze.scan.grid_scan(dims, obj_train)\n",
    "\n",
    "    # find optimal buythres and sellthres\n",
    "    df_tmp = df_scan.sort_values(by=\"score\", ascending=False)\n",
    "    best_buy = df_tmp.iloc[0][\"buythres\"]\n",
    "    best_sell = df_tmp.iloc[0][\"sellthres\"]\n",
    "    max_agr = df_tmp.iloc[0][\"score\"]  # max annual growth rate\n",
    "    print(f\"best_buy: {best_buy:.6f}, best_sell: {best_sell:.6f}\")\n",
    "    print(f\"max profit rate per year: {max_agr * 100:.4f} %\")\n",
    "    agr_dict_tr[corr_thre] = {\n",
    "        \"buythres\": best_buy,\n",
    "        \"sellthres\": best_sell,\n",
    "        \"max_agr\": max_agr,\n",
    "    }\n",
    "\n",
    "    # Plot heat map\n",
    "    fig, ax = plt.subplots(figsize=(8, 8))\n",
    "    df_tmp = df_scan.round(6).pivot(\"buythres\", \"sellthres\", \"score\")\n",
    "    sns.heatmap(df_tmp, ax=ax)\n",
    "    # add max_agr\n",
    "    ax.set_title(f\"max_agr: {max_agr * 100:.4f} %\")\n",
    "    fig.savefig(method_1_dir / f\"trend_sig_corr_{corr_thre:.2f}.train.png\")\n",
    "    plt.close(fig)\n"
   ]
  },
  {
   "cell_type": "code",
   "execution_count": 19,
   "metadata": {},
   "outputs": [
    {
     "name": "stderr",
     "output_type": "stream",
     "text": [
      "/home/yangzhe/anaconda3/envs/aura/lib/python3.9/site-packages/seaborn/_decorators.py:36: FutureWarning: Pass the following variables as keyword args: x, y. From version 0.12, the only valid positional argument will be `data`, and passing other arguments without an explicit keyword will result in an error or misinterpretation.\n",
      "  warnings.warn(\n"
     ]
    }
   ],
   "source": [
    "# Plot max_agr vs corr_thre\n",
    "fig, ax = plt.subplots()\n",
    "sns.lineplot(\n",
    "    list(agr_dict_tr.keys()), [v[\"max_agr\"] for v in agr_dict_tr.values()], ax=ax\n",
    ")\n",
    "ax.set_title(\"max_agr vs corr_thre\")\n",
    "fig.savefig(method_1_dir / \"max_agr_vs_corr_thre.train.png\")\n"
   ]
  },
  {
   "cell_type": "markdown",
   "metadata": {},
   "source": [
    "Scan test"
   ]
  },
  {
   "cell_type": "code",
   "execution_count": 20,
   "metadata": {},
   "outputs": [
    {
     "name": "stdout",
     "output_type": "stream",
     "text": [
      "# num of symbols with corr > 0.3: 117\n"
     ]
    },
    {
     "name": "stderr",
     "output_type": "stream",
     "text": [
      "100%|██████████| 861/861 [00:22<00:00, 38.67it/s]\n"
     ]
    },
    {
     "name": "stdout",
     "output_type": "stream",
     "text": [
      "best_buy: -0.000150, best_sell: 0.000130\n",
      "max profit rate per year: 4.5721 %\n",
      "# num of symbols with corr > 0.5: 79\n"
     ]
    },
    {
     "name": "stderr",
     "output_type": "stream",
     "text": [
      "100%|██████████| 861/861 [00:15<00:00, 56.55it/s]\n"
     ]
    },
    {
     "name": "stdout",
     "output_type": "stream",
     "text": [
      "best_buy: -0.000200, best_sell: 0.000240\n",
      "max profit rate per year: 4.3189 %\n",
      "# num of symbols with corr > 0.7: 11\n"
     ]
    },
    {
     "name": "stderr",
     "output_type": "stream",
     "text": [
      "100%|██████████| 861/861 [00:02<00:00, 418.52it/s]\n"
     ]
    },
    {
     "name": "stdout",
     "output_type": "stream",
     "text": [
      "best_buy: -0.000350, best_sell: 0.000240\n",
      "max profit rate per year: 4.5800 %\n",
      "# num of symbols with corr > 0.72: 9\n"
     ]
    },
    {
     "name": "stderr",
     "output_type": "stream",
     "text": [
      "100%|██████████| 861/861 [00:01<00:00, 484.60it/s]\n"
     ]
    },
    {
     "name": "stdout",
     "output_type": "stream",
     "text": [
      "best_buy: -0.000225, best_sell: 0.000130\n",
      "max profit rate per year: 4.8142 %\n",
      "# num of symbols with corr > 0.73: 7\n"
     ]
    },
    {
     "name": "stderr",
     "output_type": "stream",
     "text": [
      "100%|██████████| 861/861 [00:01<00:00, 604.64it/s]\n"
     ]
    },
    {
     "name": "stdout",
     "output_type": "stream",
     "text": [
      "best_buy: -0.000350, best_sell: 0.000280\n",
      "max profit rate per year: 5.5324 %\n",
      "# num of symbols with corr > 0.74: 5\n"
     ]
    },
    {
     "name": "stderr",
     "output_type": "stream",
     "text": [
      "100%|██████████| 861/861 [00:01<00:00, 508.86it/s]\n"
     ]
    },
    {
     "name": "stdout",
     "output_type": "stream",
     "text": [
      "best_buy: -0.000350, best_sell: 0.000280\n",
      "max profit rate per year: 6.2073 %\n",
      "# num of symbols with corr > 0.75: 3\n"
     ]
    },
    {
     "name": "stderr",
     "output_type": "stream",
     "text": [
      "100%|██████████| 861/861 [00:00<00:00, 1621.63it/s]\n"
     ]
    },
    {
     "name": "stdout",
     "output_type": "stream",
     "text": [
      "best_buy: -0.000350, best_sell: 0.000280\n",
      "max profit rate per year: 4.6487 %\n",
      "# num of symbols with corr > 0.76: 1\n"
     ]
    },
    {
     "name": "stderr",
     "output_type": "stream",
     "text": [
      "100%|██████████| 861/861 [00:00<00:00, 2130.77it/s]\n"
     ]
    },
    {
     "name": "stdout",
     "output_type": "stream",
     "text": [
      "best_buy: -0.000350, best_sell: 0.000230\n",
      "max profit rate per year: 3.5299 %\n"
     ]
    }
   ],
   "source": [
    "agr_dict_te = {}\n",
    "for corr_thre in [0.3, 0.5, 0.7, 0.72, 0.73, 0.74, 0.75, 0.76]:\n",
    "    # corr_thre = 0.65\n",
    "    symbols_high_corr = [k for k, v in corr_dict.items() if v > corr_thre]\n",
    "    print(f\"# num of symbols with corr > {corr_thre}: {len(symbols_high_corr)}\")\n",
    "    if len(symbols_high_corr) == 0:\n",
    "        continue\n",
    "\n",
    "    # scan buythres and sellthres\n",
    "    dims = {\"buythres\": buy_dim, \"sellthres\": sell_dim}\n",
    "\n",
    "    def obj_test(buythres, sellthres):\n",
    "        total_pnl = 0\n",
    "        for symbol in symbols_high_corr:\n",
    "            x = df_test.loc[df_test[\"symbol\"] == symbol, x_feature].values\n",
    "            fr = df_test.loc[df_test[\"symbol\"] == symbol, \"funding_rate\"].values\n",
    "            cur_pnl = get_pnl_2side(\n",
    "                x, fr, best_buy_short, best_sell_short, buythres, sellthres\n",
    "            )\n",
    "            total_pnl += cur_pnl\n",
    "        pnl_rate = total_pnl / len(symbols_high_corr)\n",
    "        return pnl_rate * 4\n",
    "\n",
    "    df_scan = artool.analyze.scan.grid_scan(dims, obj_test)\n",
    "\n",
    "    # find optimal buythres and sellthres\n",
    "    df_tmp = df_scan.sort_values(by=\"score\", ascending=False)\n",
    "    best_buy = df_tmp.iloc[0][\"buythres\"]\n",
    "    best_sell = df_tmp.iloc[0][\"sellthres\"]\n",
    "    max_agr = df_tmp.iloc[0][\"score\"]  # max annual growth rate\n",
    "    print(f\"best_buy: {best_buy:.6f}, best_sell: {best_sell:.6f}\")\n",
    "    print(f\"max profit rate per year: {max_agr * 100:.4f} %\")\n",
    "    agr_dict_te[corr_thre] = {\n",
    "        \"buythres\": best_buy,\n",
    "        \"sellthres\": best_sell,\n",
    "        \"max_agr\": max_agr,\n",
    "    }\n",
    "\n",
    "    # Plot heat map\n",
    "    fig, ax = plt.subplots(figsize=(8, 8))\n",
    "    df_tmp = df_scan.round(6).pivot(\"buythres\", \"sellthres\", \"score\")\n",
    "    sns.heatmap(df_tmp, ax=ax)\n",
    "    # add max_agr\n",
    "    ax.set_title(f\"max_agr: {max_agr * 100:.4f} %\")\n",
    "    fig.savefig(method_1_dir / f\"trend_sig_corr_{corr_thre:.2f}.test.png\")\n",
    "    plt.close(fig)\n"
   ]
  },
  {
   "cell_type": "code",
   "execution_count": 21,
   "metadata": {},
   "outputs": [],
   "source": [
    "# Plot max_agr vs corr_thre\n",
    "fig, ax = plt.subplots()\n",
    "ax.plot(\n",
    "    list(agr_dict_tr.keys()),\n",
    "    [v[\"max_agr\"] for v in agr_dict_tr.values()],\n",
    "    label=\"train\",\n",
    ")\n",
    "ax.plot(\n",
    "    list(agr_dict_te.keys()), [v[\"max_agr\"] for v in agr_dict_te.values()], label=\"test\"\n",
    ")\n",
    "ax.legend()\n",
    "ax.set_title(\"max_agr vs corr_thre\")\n",
    "fig.savefig(method_1_dir / \"max_agr_vs_corr_thre.png\")\n"
   ]
  },
  {
   "cell_type": "markdown",
   "metadata": {},
   "source": []
  },
  {
   "cell_type": "code",
   "execution_count": null,
   "metadata": {},
   "outputs": [],
   "source": [
    "df_test.head()\n"
   ]
  },
  {
   "cell_type": "code",
   "execution_count": null,
   "metadata": {},
   "outputs": [],
   "source": [
    "df_tmp = pd.read_csv(\n",
    "    \"/home/shared/coin/tardis_derivative_ticker/2022-09-30/BTCUSDT.csv\"\n",
    ")\n"
   ]
  },
  {
   "cell_type": "code",
   "execution_count": null,
   "metadata": {},
   "outputs": [],
   "source": [
    "df_tmp.sample(10)\n"
   ]
  },
  {
   "cell_type": "code",
   "execution_count": null,
   "metadata": {},
   "outputs": [],
   "source": [
    "df_tmp.describe()\n"
   ]
  }
 ],
 "metadata": {
  "kernelspec": {
   "display_name": "Python 3.9.13 ('aura')",
   "language": "python",
   "name": "python3"
  },
  "language_info": {
   "codemirror_mode": {
    "name": "ipython",
    "version": 3
   },
   "file_extension": ".py",
   "mimetype": "text/x-python",
   "name": "python",
   "nbconvert_exporter": "python",
   "pygments_lexer": "ipython3",
   "version": "3.9.13"
  },
  "orig_nbformat": 4,
  "vscode": {
   "interpreter": {
    "hash": "6154bd16ebceb70a3ff1be700fb1950f38adc2a391f1c8d35353bc1a78d88393"
   }
  }
 },
 "nbformat": 4,
 "nbformat_minor": 2
}
